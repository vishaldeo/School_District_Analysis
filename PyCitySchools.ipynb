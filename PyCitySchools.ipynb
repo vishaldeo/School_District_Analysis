{
 "cells": [
  {
   "cell_type": "code",
   "execution_count": null,
   "id": "f39f2427",
   "metadata": {},
   "outputs": [],
   "source": [
    "# Here is the list of deliverables for the analysis of the school district: \n",
    "\n",
    "# A high-level snapshot of the district's key metrics, presented in a table format\n",
    "# An overview of the key metrics for each school, presented in a table format\n",
    "# Tables presenting each of the following metrics:\n",
    "# Top 5 and bottom 5 performing schools, based on the overall passing rate\n",
    "# The average math score received by students in each grade level at each school\n",
    "# The average reading score received by students in each grade level at each school\n",
    "# School performance based on the budget per student\n",
    "# School performance based on the school size \n",
    "# School performance based on the type of school\n",
    "\n",
    "import pandas as pd\n",
    "import os\n",
    "\n",
    "# Files to load\n",
    "school_data_to_load = os.path.join(\"Resources\", \"schools_complete.csv\")\n",
    "student_data_to_load = os.path.join(\"Resources\", \"students_complete.csv\")\n",
    "missing_grade_to_load = os.path.join(\"Resources\", \"missing_grades.csv\")\n",
    "\n",
    "# Read the school data file and store it in a Pandas DataFrame.\n",
    "school_data_df = pd.read_csv(school_data_to_load)\n",
    "student_data_df = pd.read_csv(student_data_to_load)\n",
    "missing_grade_df = pd.read_csv(missing_grade_to_load)\n",
    "school_data_df\n",
    "# student_data_df\n",
    "# missing_grade_df"
   ]
  },
  {
   "cell_type": "code",
   "execution_count": null,
   "id": "25a70985",
   "metadata": {},
   "outputs": [],
   "source": [
    "student_data_df"
   ]
  },
  {
   "cell_type": "code",
   "execution_count": null,
   "id": "c8735b63",
   "metadata": {},
   "outputs": [],
   "source": [
    "school_data_df.count()"
   ]
  },
  {
   "cell_type": "code",
   "execution_count": null,
   "id": "13a26fdc",
   "metadata": {},
   "outputs": [],
   "source": [
    "missing_grade_df"
   ]
  },
  {
   "cell_type": "code",
   "execution_count": null,
   "id": "57498f2b",
   "metadata": {},
   "outputs": [],
   "source": [
    "student_data_df.count()"
   ]
  },
  {
   "cell_type": "code",
   "execution_count": null,
   "id": "8ced27ae",
   "metadata": {},
   "outputs": [],
   "source": [
    "student_data_df.isnull().sum()"
   ]
  },
  {
   "cell_type": "code",
   "execution_count": null,
   "id": "8617a831",
   "metadata": {},
   "outputs": [],
   "source": [
    "student_data_df.notnull().sum()"
   ]
  },
  {
   "cell_type": "code",
   "execution_count": null,
   "id": "8fe0c178",
   "metadata": {},
   "outputs": [],
   "source": [
    "missing_grade_df.count()"
   ]
  },
  {
   "cell_type": "code",
   "execution_count": null,
   "id": "94207454",
   "metadata": {},
   "outputs": [],
   "source": [
    "missing_grade_df.isnull().sum()"
   ]
  },
  {
   "cell_type": "code",
   "execution_count": null,
   "id": "f8b751a7",
   "metadata": {},
   "outputs": [],
   "source": [
    "# Drop the NaNs.\n",
    "missing_grade_df.dropna()"
   ]
  },
  {
   "cell_type": "code",
   "execution_count": null,
   "id": "2ce95040",
   "metadata": {},
   "outputs": [],
   "source": [
    "# Fill in the empty rows with \"85\".\n",
    "missing_grade_df.fillna(85)"
   ]
  }
 ],
 "metadata": {
  "kernelspec": {
   "display_name": "Python 3 (ipykernel)",
   "language": "python",
   "name": "python3"
  },
  "language_info": {
   "codemirror_mode": {
    "name": "ipython",
    "version": 3
   },
   "file_extension": ".py",
   "mimetype": "text/x-python",
   "name": "python",
   "nbconvert_exporter": "python",
   "pygments_lexer": "ipython3",
   "version": "3.7.13"
  }
 },
 "nbformat": 4,
 "nbformat_minor": 5
}

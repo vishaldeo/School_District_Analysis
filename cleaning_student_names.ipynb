{
 "cells": [
  {
   "cell_type": "code",
   "execution_count": 1,
   "id": "3cf7ac31",
   "metadata": {},
   "outputs": [
    {
     "data": {
      "text/html": [
       "<div>\n",
       "<style scoped>\n",
       "    .dataframe tbody tr th:only-of-type {\n",
       "        vertical-align: middle;\n",
       "    }\n",
       "\n",
       "    .dataframe tbody tr th {\n",
       "        vertical-align: top;\n",
       "    }\n",
       "\n",
       "    .dataframe thead th {\n",
       "        text-align: right;\n",
       "    }\n",
       "</style>\n",
       "<table border=\"1\" class=\"dataframe\">\n",
       "  <thead>\n",
       "    <tr style=\"text-align: right;\">\n",
       "      <th></th>\n",
       "      <th>Student ID</th>\n",
       "      <th>student_name</th>\n",
       "      <th>gender</th>\n",
       "      <th>grade</th>\n",
       "      <th>school_name</th>\n",
       "      <th>reading_score</th>\n",
       "      <th>math_score</th>\n",
       "    </tr>\n",
       "  </thead>\n",
       "  <tbody>\n",
       "    <tr>\n",
       "      <th>0</th>\n",
       "      <td>0</td>\n",
       "      <td>Paul Bradley</td>\n",
       "      <td>M</td>\n",
       "      <td>9th</td>\n",
       "      <td>Huang High School</td>\n",
       "      <td>66</td>\n",
       "      <td>79</td>\n",
       "    </tr>\n",
       "    <tr>\n",
       "      <th>1</th>\n",
       "      <td>1</td>\n",
       "      <td>Victor Smith</td>\n",
       "      <td>M</td>\n",
       "      <td>12th</td>\n",
       "      <td>Huang High School</td>\n",
       "      <td>94</td>\n",
       "      <td>61</td>\n",
       "    </tr>\n",
       "    <tr>\n",
       "      <th>2</th>\n",
       "      <td>2</td>\n",
       "      <td>Kevin Rodriguez</td>\n",
       "      <td>M</td>\n",
       "      <td>12th</td>\n",
       "      <td>Huang High School</td>\n",
       "      <td>90</td>\n",
       "      <td>60</td>\n",
       "    </tr>\n",
       "    <tr>\n",
       "      <th>3</th>\n",
       "      <td>3</td>\n",
       "      <td>Dr. Richard Scott</td>\n",
       "      <td>M</td>\n",
       "      <td>12th</td>\n",
       "      <td>Huang High School</td>\n",
       "      <td>67</td>\n",
       "      <td>58</td>\n",
       "    </tr>\n",
       "    <tr>\n",
       "      <th>4</th>\n",
       "      <td>4</td>\n",
       "      <td>Bonnie Ray</td>\n",
       "      <td>F</td>\n",
       "      <td>9th</td>\n",
       "      <td>Huang High School</td>\n",
       "      <td>97</td>\n",
       "      <td>84</td>\n",
       "    </tr>\n",
       "  </tbody>\n",
       "</table>\n",
       "</div>"
      ],
      "text/plain": [
       "   Student ID       student_name gender grade        school_name  \\\n",
       "0           0       Paul Bradley      M   9th  Huang High School   \n",
       "1           1       Victor Smith      M  12th  Huang High School   \n",
       "2           2    Kevin Rodriguez      M  12th  Huang High School   \n",
       "3           3  Dr. Richard Scott      M  12th  Huang High School   \n",
       "4           4         Bonnie Ray      F   9th  Huang High School   \n",
       "\n",
       "   reading_score  math_score  \n",
       "0             66          79  \n",
       "1             94          61  \n",
       "2             90          60  \n",
       "3             67          58  \n",
       "4             97          84  "
      ]
     },
     "execution_count": 1,
     "metadata": {},
     "output_type": "execute_result"
    }
   ],
   "source": [
    "import pandas as pd\n",
    "import os\n",
    "\n",
    "# Files to load\n",
    "\n",
    "student_data_to_load = os.path.join(\"Resources\", \"students_complete.csv\")\n",
    "student_data_df = pd.read_csv(student_data_to_load)\n",
    "\n",
    "student_data_df.head()\n",
    "\n"
   ]
  },
  {
   "cell_type": "code",
   "execution_count": 2,
   "id": "7dc33cbd",
   "metadata": {},
   "outputs": [
    {
     "name": "stdout",
     "output_type": "stream",
     "text": [
      " Total Student to be fixed 1531\n"
     ]
    }
   ],
   "source": [
    "\n",
    "\n",
    "student_data_new = student_data_df[\"student_name\"].tolist()\n",
    "\n",
    "count = 0\n",
    "for name in student_data_new:\n",
    "    if len(name.split()) > 2:\n",
    "        count+=1\n",
    "\n",
    "print(f\" Total Student to be fixed {count}\")\n",
    "\n",
    "# student_data_1[\"student_name\"].headd(10)\n",
    "\n",
    "# prefixes_suffixes = [\"Dr. \", \"Mr. \",\"Ms. \", \"Mrs. \", \"Miss \", \" MD\", \" DDS\", \" DVM\", \" PhD\"]\n",
    "\n",
    "# for words in prefixes_suffixes:\n",
    "#     student_data_df[\"student_name\"] = student_data_df[\"student_name\"].str.replace(words,\"\")\n",
    "\n",
    "# student_data_df[\"student_name\"].head()     "
   ]
  },
  {
   "cell_type": "code",
   "execution_count": 3,
   "id": "8d4de74b",
   "metadata": {},
   "outputs": [
    {
     "name": "stdout",
     "output_type": "stream",
     "text": [
      " Total Student to be fixed 1531\n",
      "['Dr. Richard Scott', 'Dr. Jordan Carson', 'Madeline Snyder MD', 'Mr. Dylan Taylor MD', 'Dr. Scott Gill', 'Miss Madison Everett', 'Virginia Ramirez MD', 'Joseph Morales III', 'Angela Perkins DVM', 'Heather Allen MD', 'Luke Lowery MD', 'Dr. Larry Hines', 'Emily Cardenas MD', 'Mrs. Elizabeth Espinoza DDS', 'Mrs. Lisa Becker', 'Mr. Travis Young', 'Paula Fernandez DVM', 'Dr. Xavier Bell II', 'Andrew Hanson MD', 'Mr. Roberto Wright MD', 'Mr. Dale Miller', 'Mary Gonzalez DDS', 'Mrs. Cindy Brown', 'James White MD', 'Donald Gill DDS', 'Mrs. Catherine Williams MD', 'Ashley Caldwell MD', 'Mr. Jared Campbell', 'Michael Moreno PhD', 'Tara Parker MD', 'Shawn Williams DVM', 'Dr. Alicia Martinez', 'Mr. Timothy Anderson', 'Mrs. Paula Lee', 'Mr. Elijah Hall', 'Mr. Raymond Stone', 'John Dickerson MD', 'Mr. Alex Franklin', 'Mrs. Jessica Dunn', 'Mr. Michael Stevenson', 'Jason Jones DDS', 'Adriana Wade MD', 'Erica Hurley MD', 'Dr. Garrett Wright', 'Mr. James Allen', 'Mr. Timothy Harper MD', 'Dale Brown MD', 'Dr. Christina Moore', 'Angela Peterson MD', 'Jennifer Ferguson MD', 'Anthony Wilson DDS', 'Dr. Jessica Lopez', 'David Miller Jr.', 'Dr. John Jones', 'Ms. Samantha Brown', 'Cynthia Hansen DVM', 'Rebecca Montoya MD', 'Dr. Jacob Matthews', 'Dr. Jacob Bell', 'Mr. Bruce Thomas', 'Robert Martin MD', 'Mrs. Marcia Jones PhD', 'Reginald Garcia IV', 'Patricia Smith MD', 'Amy Dyer DDS', 'Brian Hall DDS', 'Douglas Levy DDS', 'Mr. Eric Ibarra', 'Benjamin Ramirez MD', 'Raymond Freeman DDS', 'Carla Reeves MD', 'Dr. Donald Williams', 'Mr. John Carter', 'William Jackson DVM', 'Mr. Mitchell Cooper', 'Kevin Brown IV', 'Mrs. Kathleen Reed', 'Donna Robinson MD', 'Mrs. Dawn Olson DDS', 'Mr. Dustin Glover', 'Alexis French MD', 'Lisa Guerrero MD', 'David Nguyen DVM', 'William Washington Jr.', 'Julie Patterson MD', 'Mr. James Kelly', 'Dr. Robert Martin', 'Darlene Thomas PhD', 'Mr. Juan Jenkins', 'Mr. Juan Bryant II', 'Mr. Matthew Coleman', 'Bonnie Hammond MD', 'Kathleen Harris DDS', 'Steven Velez DDS', 'Tammy Cruz DDS', 'Dr. Marie Williams', 'Kenneth Paul Jr.', 'Mr. Jose Morris', 'Scott Rivers III', 'Melissa Rodriguez MD', 'Geoffrey Ortiz MD', 'Matthew Stewart MD', 'Sandra Thompson DDS', 'Mark Myers Jr.', 'Mrs. Maria Smith DDS', 'Dr. Kimberly Clements', 'Dr. Kenneth Webb', 'Amanda Patterson DVM', 'Miss Tara Banks DDS', 'Nancy Brown DVM', 'Chase Boyd MD', 'Mr. James Spence', 'Miss Colleen Stewart DDS', 'Mr. Todd Greene PhD', 'Amanda Hamilton DDS', 'Mrs. Lisa Rowland', 'Mr. Eric Moon', 'Mrs. Alicia Kelly DDS', 'Mr. Michael Norton Jr.', 'Mr. James Crosby', 'Mr. Sean Pena Jr.', 'Kathy Lucero DVM', 'Dustin Ferguson DDS', 'Dr. James Patterson', 'Dr. Juan Cobb MD', 'Victoria Garcia MD', 'Michael Evans DVM', 'Miss Ebony Bell', 'Mr. Justin Mullins DDS', 'Mrs. Jill Walker', 'Mr. Eric Hicks', 'Tara Williams DVM', 'Dr. Jessica Watkins', 'Mr. Joseph Turner', 'Cody Mueller Jr.', 'Kiara Williams MD', 'Mathew White Jr.', 'Steve Hendricks MD', 'Mr. Victor Duarte', 'Dr. Stacy Maynard', 'Mr. Steven Snyder PhD', 'Jessica Warner PhD', 'Trevor Summers DDS', 'Maria Doyle MD', 'Stacie Walker DDS', 'Megan House DVM', 'Ms. Deborah Coleman', 'Dr. Ryan Barker', 'Mr. Michael Cox', 'Mrs. Rebecca Martin DVM', 'Sara Jacobs MD', 'Mr. Jason Daugherty Jr.', 'Mrs. Natalie Holder MD', 'Charles Hernandez DDS', 'Dr. Charles Lawrence', 'Mr. Tyler Walker', 'Janet Whitaker MD', 'Jeremy Watkins MD', 'David Martinez DDS', 'Kimberly Olsen DDS', 'Dr. Nicole Roy', 'Mr. Justin Maxwell', 'Danielle Robinson DDS', 'Mrs. Susan Chase DDS', 'Mr. Alex Gonzales DDS', 'Leonard Webster II', 'David Taylor PhD', 'Mr. Christopher Stuart', 'Mr. Kevin Wilson', 'Mr. John Walters', 'Breanna Peterson MD', 'Terri Quinn PhD', 'Christian Reynolds DDS', 'Mr. Donald Gray', 'Dr. Shawn Brown', 'Samantha Salas MD', 'Valerie Thomas DDS', 'Mrs. Gina Anderson', 'Michael Stein Jr.', 'Mr. Robert Day', 'Justin Hernandez DDS', 'Mrs. Mikayla White', 'Dr. Edward Palmer', 'Elizabeth Coleman MD', 'Alexandra Hood PhD', 'Michael Gonzalez DDS', 'Ryan Phillips Jr.', 'Ashley Jones DDS', 'Susan Trujillo MD', 'Carol Baker MD', 'Kelly Ibarra MD', 'Mrs. Crystal Perez', 'Mr. Joshua Jensen MD', 'Ms. Vanessa Ortiz DDS', 'Mr. Jay Navarro', 'Dr. Jimmy Smith MD', 'John Compton DDS', 'Mario Wheeler PhD', 'Mr. Joshua Simon', 'Alicia Ferguson DVM', 'Dr. Amy Melendez', 'Gloria Fritz DDS', 'Dr. Michael Miller', 'Mrs. Alexandra Taylor', 'Dr. Jennifer Ramirez MD', 'Mrs. Amy Walker MD', 'David Dickson MD', 'Amanda Mills DDS', 'Mr. Jason West', 'Mr. Joshua Hall', 'Mrs. Elizabeth Mitchell', 'Dr. Sarah Miller', 'Allen Snyder Jr.', 'Calvin Williams Jr.', 'Dr. Tammy Shelton', 'Miss Jennifer Gibson', 'Miss Christy Robinson', 'Mr. Michael Rhodes', 'Deborah Huffman DDS', 'Ronald Torres Jr.', 'Mr. Oscar Bautista', 'Ellen Mcgee MD', 'Emily Andrews MD', 'Richard Williams PhD', 'Mr. Michael Baker PhD', 'Dr. Robert Taylor', 'Traci Obrien DDS', 'Robert Harris MD', 'Dr. Diana Martin', 'Logan Ward MD', 'Mrs. Janice Dixon', 'Gabriel Smith III', 'Linda Duran DVM', 'Ronald Mayer PhD', 'Mr. David Smith', 'Brian Pitts Jr.', 'Ms. Stephanie Rose', 'Mr. Richard Stephens', 'Miss Kimberly Joseph', 'Bruce Thompson II', 'Tony Adams DDS', 'Dr. Annette Collins DDS', 'Mr. Chad Hendricks', 'Lindsey Tyler DVM', 'Michael Drake MD', 'Jeremy Sanders II', 'Mr. George Goodwin MD', 'Amanda Ramirez DDS', 'Aaron Morris MD', 'Mrs. Michelle Butler', 'Mr. Robert Carson', 'Mrs. Jennifer Martin DDS', 'Miss Amber Wallace', 'Mrs. Mary Hardy', 'Jennifer Smith PhD', 'Jodi White DDS', 'Mr. Ryan Strickland', 'Mr. Michael Koch', 'Mrs. Kara Rodriguez DDS', 'Mr. Ryan Adams', 'Austin Johnson II', 'Mr. Samuel Robertson DVM', 'Benjamin Vargas DDS', 'Mrs. Wendy Thomas', 'Bryan Conway Jr.', 'Brittany Hatfield DVM', 'Mrs. Casey Hayes', 'Johnny Byrd MD', 'Nicole Burke MD', 'Brett Banks DVM', 'Mrs. Lori Johnson', 'Michael Shea MD', 'Jesse Thompson DDS', 'Brooke Simpson DVM', 'Mr. Michael Davis', 'Mr. Thomas White', 'Jessica Scott DDS', 'Mr. Michael Burton', 'Mrs. Laurie Brown', 'Dr. Cindy Logan', 'Nicholas Jones MD', 'Ronald Moore II', 'Mr. Jonathon Patrick', 'Mr. Andrew Kemp', 'Alexander Garcia PhD', 'Brett Campbell MD', 'Mrs. Paige Hall', 'Danielle Smith MD', 'Catherine Mendez MD', 'Mr. David Mcdonald', 'Mrs. Ashley Porter DDS', 'Jason Mcdowell MD', 'Mr. Martin Lozano', 'Bruce Hendrix MD', 'Pamela Cox DDS', 'Dr. Kristina Turner', 'Samantha Buchanan DDS', 'Mr. Cameron Singh', 'Mr. Steven Davis', 'Ruth Martinez MD', 'George White DDS', 'Dr. Michael Johnson', 'Joshua Garrison PhD', 'Mr. Nicholas Rodriguez DVM', 'Ms. Sarah Ray DVM', 'Natalie Rivera MD', 'Dr. Tracy Powell', 'Mr. Jason Chavez MD', 'Mrs. Leslie Mathews', 'Patrick Newman DDS', 'Mr. Michael Chapman DDS', 'Jennifer Long PhD', 'Matthew Anthony MD', 'Robert Garrison IV', 'Jamie Anderson DDS', 'William Gonzalez Jr.', 'Dr. Jennifer Weiss', 'Dr. Cynthia Torres', 'John Miranda DDS', 'Dr. Brian Matthews Jr.', 'Mr. Christopher Quinn', 'Mrs. Jacqueline Rose', 'Mrs. Angela Gray', 'Mrs. Tara Carpenter', 'Shannon Stevenson MD', 'Kaitlin Warner MD', 'Dr. Jessica Fowler MD', 'Mrs. Catherine Armstrong', 'John Mullins DDS', 'Christina Benson MD', 'Amy Martinez DVM', 'Ashley Edwards DVM', 'Melissa Herrera DDS', 'Adam Arroyo DDS', 'Dr. Amanda Cochran', 'Eric Richards Jr.', 'Mrs. Angela Martinez', 'Natalie Garcia MD', 'Mr. Dennis Duke', 'Christopher Fleming MD', 'Misty Beck DDS', 'Sharon Lloyd DDS', 'Mrs. Laura Malone MD', 'Dr. Gabriel Flores MD', 'Dr. Russell Gallegos', 'Kyle Walker MD', 'Caleb Oliver MD', 'Mr. Cameron Erickson', 'Pamela Oliver DVM', 'Mariah Russell MD', 'Jonathan Fisher DVM', 'Ms. Sarah Mcintosh DVM', 'Lynn Jones MD', 'Allison Martinez DDS', 'Jeffrey Zamora MD', 'Kenneth Munoz Jr.', 'Dr. Ellen Mcclure DDS', 'Samantha Ballard MD', 'Mariah Franco MD', 'Mr. Daniel Smith DVM', 'Jon Delgado Jr.', 'Mrs. Anna Dickerson', 'Mrs. Cynthia Martinez DDS', 'Angela Hamilton MD', 'Mrs. Stephanie Stone', 'Dr. Marcus Kim MD', 'Jordan Brewer PhD', 'Mrs. Veronica Neal', 'Dr. Mike Alvarez', 'Patricia Lee DDS', 'Andrew English Jr.', 'Dr. Jennifer Martinez MD', 'Dr. Donna Humphrey', 'Mrs. Jennifer Tucker DDS', 'Mrs. Jamie Bond', 'Judy Mills MD', 'Christina Jackson DDS', 'Mr. Raymond Cox Jr.', 'Dr. Donna Cooper', 'Jeffrey Mcclain Jr.', 'Mr. Joseph Hill', 'Bryan Shaffer DVM', 'Julie Bond MD', 'Michael Hunter DDS', 'Melissa Rodriguez PhD', 'Deborah Rodriguez MD', 'Mrs. Andrea Wilson', 'Dr. Jonathan Woods PhD', 'Jacob Ballard MD', 'Mr. Brian Poole V', 'Jeffrey Kim II', 'Mr. Michael Gonzalez', 'Kevin Brooks MD', 'April Hansen PhD', 'Mr. Brian Austin', 'Sara Cooper DVM', 'Kelsey Ellis MD', 'Deborah Madden MD', 'Dr. Brooke Silva', 'Dr. Melissa Allen PhD', 'Karen Thomas MD', 'Mrs. Sophia Harper', 'Tara Singleton MD', 'Dr. Alison Flores', 'Kenneth Adams MD', 'Mrs. Natasha White', 'Amanda Sanchez DDS', 'Scott Campbell DVM', 'Matthew Alexander Jr.', 'Dr. Shane Gilmore MD', 'Miss Paula Lawson', 'Mrs. Theresa Roberts', 'Kevin Reynolds Jr.', 'Mr. David Anderson', 'Dr. Gabrielle Morris', 'Jacob Skinner Jr.', 'Miss Lisa Kennedy', 'Timothy Byrd DDS', 'Haley Jordan PhD', 'Deborah Mack DVM', 'Mckenzie Morris DVM', 'Megan Saunders MD', 'Tina Meyer MD', 'Harold Sutton MD', 'James Allen DVM', 'Dr. Lauren Perry', 'Eric Riley MD', 'Jamie Rogers DDS', 'Natasha Lee MD', 'Ms. Paula Taylor', 'Theodore Mendez DDS', 'Ms. Rebecca Johnson', 'Mr. Dennis Gibson Jr.', 'Mrs. Sherry Flores MD', 'Dr. Alejandro Swanson', 'Dr. Tiffany Peters DDS', 'Christopher Crawford DDS', 'Jimmy Shea Jr.', 'Mr. Joshua Cunningham', 'Mr. Travis Jackson', 'Dr. Mary Johnson', 'Mr. Patrick Duarte', 'Mr. Adam Hernandez', 'Dr. Susan Wright', 'Miss Stephanie Perry DVM', 'Dr. Tracey Gonzalez', 'Paul Hernandez DVM', 'Mrs. Jasmine Schroeder', 'Mr. Adam Sosa', 'Linda Sanchez DDS', 'Mrs. Danielle Jones', 'Benjamin Henry MD', 'Mr. Randy Reyes', 'Mr. Russell Elliott', 'Mr. Thomas Smith MD', 'Rachel Hanna DVM', 'Robert Stephens MD', 'Dr. Sean Duncan MD', 'Maria Adams MD', 'Mrs. Theresa Bauer', 'Teresa Blair DDS', 'Dr. Jennifer Campbell MD', 'Dr. Melody Garcia', 'James Reed Jr.', 'Elizabeth Wallace MD', 'Mrs. Gina Williams', 'Emily Price MD', 'Mrs. Bonnie Boyd PhD', 'Dr. Harry Campbell', 'Dr. Kevin Simon', 'Dr. Eric Lambert PhD', 'Mr. John Mathis', 'Jason Bush DDS', 'Ms. Amy House', 'Dr. Kevin Diaz', 'Mr. Kevin Benjamin', 'Mrs. Michelle Dickerson DDS', 'Dr. Alexandra Mays', 'Mrs. Jessica Hebert', 'Dr. George Cline', 'Mrs. Whitney Scott', 'Jennifer Jenkins DDS', 'Mr. Gregg Rosario', 'Scott Roth MD', 'Evelyn Kirby MD', 'Miranda Thompson PhD', 'Dr. Carla Ross', 'Mrs. Tanya Odom', 'Jeffery Baker Jr.', 'Mrs. Melissa Medina', 'Daniel Lara MD', 'Mrs. Nicole Vazquez', 'Dr. Emily Gutierrez DDS', 'Dr. Stephanie Smith', 'Derrick Hughes III', 'Mr. Eduardo James', 'Mr. Michael Cook', 'Mr. David Hill', 'Dr. Ryan Orozco DVM', 'Joshua Rivera Jr.', 'Marc Harmon DDS', 'Mr. Keith Peters DDS', 'Amanda Freeman MD', 'Dr. Michelle Carlson', 'Dr. Stephen Vargas', 'Colleen Frederick DVM', 'Dr. Harry Chang', 'Taylor Grant MD', 'Mrs. Renee Thomas DDS', 'Dr. Shannon Johnson MD', 'Mrs. Christina Horne', 'Mrs. Deborah Walters PhD', 'Mr. Jesse Gonzalez', 'Larry Martinez DDS', 'Mrs. Anita Lee', 'Dr. James Jones', 'Dr. Tammy Jones', 'Michael Golden MD', 'Dr. Gavin Tate', 'Dr. Christopher Collins', 'Timothy Guzman Jr.', 'Mr. Alexander Thomas', 'Dr. James Lewis', 'Mr. Andrew Miller', 'Mrs. Kelly Hall', 'Dr. Kayla Lowe', 'Dr. Joseph Park', 'Dr. Alfred Foster', 'Amy Stephenson MD', 'Stephen Black DVM', 'Dr. Daryl Smith', 'Stuart Gross DDS', 'Michael Hardy DDS', 'Mr. Kenneth Chase', 'Mrs. Anna Everett MD', 'Mr. Joshua Young', 'Mrs. Robin Lopez MD', 'Dr. Elizabeth Benson', 'Dr. Casey Hogan', 'Elizabeth Peterson DVM', 'Marilyn Vasquez DVM', 'Mr. Jack Reed', 'Zachary Shields DVM', 'Mrs. Molly Lopez MD', 'Dr. Stephanie Jones', 'Benjamin George DDS', 'David Thomas DVM', 'Jill Hudson DDS', 'Mary Mccormick MD', 'Michelle Smith MD', 'Carl Burns MD', 'Mr. Juan Buckley DDS', 'Dr. Michelle Brown', 'Jose Huffman PhD', 'Deanna Mccarthy DDS', 'Mrs. Robin Hughes', 'Laura Shannon DVM', 'Mary Fox DDS', 'Ms. Jamie Sanchez', 'Meredith Tucker DVM', 'Jose Manning DDS', 'Lisa Bruce DVM', 'Crystal Howard DVM', 'Mrs. Tracy Williams', 'Mr. Jeffery Diaz', 'Julie Baker DDS', 'Miss Danielle Adams', 'Lonnie Allen II', 'Mr. Bryan Brooks', 'Ashley Jimenez MD', 'Tyrone Clark III', 'Eric Mullins DDS', 'Mr. Jonathan Walker', 'Patricia Villarreal DDS', 'Mrs. Megan Kaufman DVM', 'Mathew Thompson DVM', 'Mrs. Whitney Figueroa', 'Miss Debbie Chavez', 'Emma Bates MD', 'Jeffrey Nelson Jr.', 'Michael Mann II', 'Mrs. Karina Perry', 'Dr. Chelsey Williams MD', 'Jessica Sanchez PhD', 'Joseph Ellis PhD', 'Mrs. Heather Gregory', 'Mr. Steven Davies', 'Dr. Lauren Brown', 'Brett Garcia MD', 'Anthony Davis DDS', 'Anita Salazar DVM', 'Joseph Jones DVM', 'Edward Davis MD', 'Mr. Brian Abbott', 'Nicole Pennington MD', 'Kelly Doyle DVM', 'Franklin Chen DVM', 'Mr. Brandon Young', 'Nathan Welch PhD', 'Dr. Katrina Farmer', 'David Johnson Jr.', 'Timothy Chavez Jr.', 'Michele Oconnell MD', 'Elizabeth Tran MD', 'Dr. Grace Martin', 'Sarah Chaney DDS', 'Mrs. Brooke Henry DDS', 'Dr. Lisa Coleman', 'Brian Powell III', 'Logan Oconnell PhD', 'Lance Rangel Jr.', 'Dr. Nicole King', 'Mr. John Carroll', 'Mr. Anthony Mccormick', 'Samuel Ruiz MD', 'Ms. Jennifer Richard', 'Mr. Stephen Cochran', 'Gary Jarvis MD', 'Dustin Stephenson MD', 'Mr. Derrick Campbell DDS', 'Lori Brown MD', 'Mrs. Brooke Rodgers', 'Mr. David Moss', 'Mr. Joseph Knight DDS', 'Mrs. Brittany Duncan MD', 'Mrs. Jennifer Edwards DVM', 'William Cook PhD', 'Kristina White MD', 'Tonya Henry MD', 'Robert Sanders PhD', 'Noah Herrera Jr.', 'Linda Marshall MD', 'James Davis MD', 'Dawn Gilbert MD', 'Dr. Dennis Andrews', 'Mr. John Evans', 'Mr. Michael Brooks', 'Shannon Ortiz MD', 'Mrs. Brenda Bishop MD', 'Wanda Miller MD', 'Mrs. Sheila Wagner', 'Mrs. Kathleen Johnson DVM', 'Dr. Shannon Russo', 'Chad Chavez DVM', 'Mr. William Holt', 'Paul Jensen PhD', 'Cassandra Gardner DDS', 'Mrs. Susan Klein', 'Dr. Amanda Nguyen', 'Mrs. Leslie Esparza', 'Mrs. Jacqueline Simpson', 'Mrs. Tammy Crane', 'Dr. Wendy Oliver', 'Katelyn Mejia DDS', 'Dr. Miguel Rivera', 'Mrs. Nancy Landry', 'Renee Stewart MD', 'Breanna Mcintyre DDS', 'Sarah Fischer MD', 'Ronald Berry DVM', 'Mrs. Amanda Cook', 'Dr. Monica Gonzalez', 'Miss Jennifer Moore', 'Crystal Watson DVM', 'Suzanne Edwards DDS', 'Lance Brown DVM', 'Olivia Taylor DDS', 'Mrs. Lauren Lewis', 'Jillian Proctor MD', 'Yvette Jacobson MD', 'Chelsea Rhodes DVM', 'Robert Brown DVM', 'Maria Brooks DDS', 'Eric Johnson Jr.', 'Kelly Webb PhD', 'Dr. Valerie Chen', 'Mrs. Taylor Martin', 'Dr. Andre Casey', 'Mr. Stephen Clements', 'Kevin Morrow MD', 'Dr. Louis Skinner', 'Adam Walker DVM', 'Mr. Steven Smith', 'Dr. Willie King', 'Miranda Stanley DVM', 'Dr. Travis Johnson', 'Mr. Christopher Cook', 'Mr. Martin Hensley DDS', 'Kelly Haynes DVM', 'Mr. Alexander Foster MD', 'Mr. William Rodgers', 'Anne Larsen MD', 'Sherry Johnson MD', 'Victor Chavez II', 'Brandon Dougherty DDS', 'Elizabeth Young DDS', 'Mr. Joshua Lucas', 'Michael Walsh DDS', 'Mrs. Lauren Campbell', 'Troy Camacho MD', 'Richard Ellis Jr.', 'Mr. Brandon Johnson', 'Mrs. Brooke Campbell', 'Dr. Karen Kelley', 'Mr. Jason Simmons', 'Mr. Larry Francis MD', 'Mr. Christopher Griffin', 'Mr. Dean York', 'Charles Goodman Jr.', 'Miss Erin Bradley DDS', 'Mr. Michael Allen', 'Kelly Romero MD', 'Anna Yang MD', 'John White DVM', 'Mr. James Barnes', 'Mr. Carlos Warner', 'April Calderon MD', 'Mrs. Kimberly Key DDS', 'Eric Park DDS', 'Patrick Barker PhD', 'Michael Singh Jr.', 'Jonathan Smith Jr.', 'Allen Morris Jr.', 'Mr. Lee Rose', 'Dr. Carl James', 'Dr. Kimberly Benjamin', 'Mr. Lucas Smith', 'Mr. Jason Grant DDS', 'Aaron Solis Jr.', 'Ryan Graham MD', 'Justin Morgan MD', 'Mrs. Victoria Cochran', 'Dr. Ryan Roberts', 'Katie Strickland DDS', 'Emma Perry MD', 'Mr. Daniel Mckinney Jr.', 'Mr. Paul Farmer', 'Stephanie Howard MD', 'Mandy Mcconnell DDS', 'Mrs. Angelica Hall', 'Christopher Petty Jr.', 'Megan Shaw DDS', 'Bianca Huynh MD', 'Miss Christina Burns', 'Melissa Dunn MD', 'Mr. Derek Wilson', 'Mr. Angel Johnson', 'Mrs. Nicole Duran', 'Michael Garcia Jr.', 'Mrs. Bethany Fisher PhD', 'Mr. Daniel Nguyen DDS', 'Wanda Moore MD', 'Charles Short II', 'Kimberly Jacobson PhD', 'Debbie Brown DVM', 'Mr. Michael Dyer MD', 'Joshua Kim DDS', 'Daniel Fitzpatrick PhD', 'Jordan Waller MD', 'Mr. Jesse Bell', 'Mario Myers MD', 'Terry Adams DDS', 'Derek Barker Jr.', 'Mrs. Renee Gordon', 'Mr. Vincent King', 'Dr. Oscar Lawson MD', 'Lisa Zimmerman DVM', 'Mr. Phillip Vaughan', 'Joseph Dyer MD', 'Dr. Austin Cole', 'Mrs. Amanda Martin', 'John Thomas MD', 'Sierra Dominguez MD', 'Mrs. Katie Weber MD', 'Ms. Nancy Green', 'Mrs. Pamela Garcia', 'Danielle Stanton MD', 'Elizabeth Logan DDS', 'Courtney Wall DVM', 'Karen Harris PhD', 'Mrs. Amanda Herring', 'Dr. David Miller', 'Mr. Eric Anderson', 'Mrs. Sheena Bailey DVM', 'Zachary Garrett III', 'Thomas Harrison Jr.', 'Megan Bennett DVM', 'Mr. Steven Harrison', 'Amy Mcintosh MD', 'Dr. Frank Anderson', 'Jamie Dawson MD', 'Mr. Andrew Mitchell V', 'Dr. Travis Richmond', 'Mrs. Amy Cain', 'Aaron Davis Jr.', 'Thomas Burgess MD', 'Amanda Hale DVM', 'Derek Cooke MD', 'Dr. Daniel Bowman', 'Dr. Jonathan Palmer', 'Lori Mitchell DDS', 'Mr. Richard Armstrong', 'Dr. Timothy Johnson', 'Mrs. Pam Lewis DVM', 'Amy Gutierrez DDS', 'Dr. Christina Flores', 'Brian Bailey Jr.', 'Mrs. Carla Humphrey', 'William Burch MD', 'Yvonne Robinson PhD', 'Martha Mcdonald DVM', 'Dr. Mary Schwartz', 'Taylor Green DDS', 'Christopher Simmons PhD', 'Rhonda Peterson MD', 'Jacqueline West DDS', 'Anne Lee DDS', 'Jacqueline Snow MD', 'Dr. Jennifer Shea', 'Clayton Williams DVM', 'Mr. Jeremiah Morris IV', 'Mr. John Harris', 'Mr. David Morales Jr.', 'Barbara Johnson MD', 'Megan Gutierrez MD', 'Larry Chandler Jr.', 'Ronald Matthews PhD', 'James Clark II', 'Cameron Roman Jr.', 'Mr. Ian Smith', 'Melissa Hunt MD', 'Alexandria Cooper MD', 'Mr. Andre Jensen', 'Renee Garcia MD', 'Christopher Smith Jr.', 'Mrs. Lori Rogers MD', 'Tammy Dunlap DVM', 'Matthew Sawyer PhD', 'Mike Harris PhD', 'Mrs. Christina Mitchell DDS', 'Evelyn Suarez DDS', 'Christina Alvarez PhD', 'Emily Duran MD', 'Todd Grant Jr.', 'Mrs. Veronica Sherman', 'Mr. Alan Anderson', 'Mr. Jason Jackson', 'Mrs. Jennifer Rivera', 'Dr. Terry Sanchez', 'Mr. Scott Sexton', 'Mrs. Wendy Hayes', 'Kenneth Santiago MD', 'Dr. Matthew Hernandez', 'Louis Hodges DDS', 'Dr. Douglas Duffy', 'Mrs. Michelle Patterson', 'Mrs. Jennifer Craig', 'Mr. Michael Graham', 'Dr. David Wright', 'Jeanne Fischer MD', 'Mrs. Amanda Rose', 'Rebecca Salazar DDS', 'Mrs. Kathleen Cook', 'Robert Olson DVM', 'Richard Cherry DDS', 'Jeffrey Shepard DVM', 'James Holland MD', 'Dr. Patricia Baker', 'Joshua Montgomery MD', 'Kevin Andrews PhD', 'Dr. Rachel Gilbert', 'Kenneth Avila Jr.', 'Miss Taylor Barron', 'Mr. Jason Lopez Jr.', 'Parker Carter MD', 'Dennis Wells DDS', 'Mrs. Carol White', 'Courtney Stephenson MD', 'Dr. Andrea Rose', 'Dr. Seth Villarreal DVM', 'Mrs. Sabrina Murillo MD', 'Mr. Eric Gordon', 'Mrs. Brenda Johnson DVM', 'Anthony Garrett DDS', 'Billy Franco PhD', 'Mr. Jeremiah Rogers', 'Mr. Donald Vang', 'Dr. Alexander Chang PhD', 'Mr. Robert Hendricks', 'Dr. Bryan Kim', 'Mrs. Cynthia Lopez', 'Dr. Laura Thompson', 'Ms. Stephanie Schwartz DDS', 'Mr. Anthony Deleon', 'Miss Sarah West', 'Dr. Devin Sharp PhD', 'Brittney Hammond DVM', 'Miss Chelsea Sullivan PhD', 'Dr. Jessica Love DVM', 'Leah Page DDS', 'Hannah Rose MD', 'Miss Norma Mcfarland', 'Dwayne Mathis Jr.', 'Cheryl Gay PhD', 'Patrick Morgan MD', 'Jeremy Rivera MD', 'Mr. Colton Collins II', 'Mr. Alexander Dalton', 'Dr. Nicholas Braun', 'Chris Palmer III', 'Mr. Mason Hernandez MD', 'Dr. Roberta Edwards', 'Dr. Kaitlin Barton', 'Dr. Nicholas Garcia', 'Mr. Trevor Woods', 'Dr. Bradley Jones DDS', 'Dr. Jennifer Thomas DDS', 'Dr. Adam Rivera', 'Mr. Sean Coleman PhD', 'Dr. Sheila Walton MD', 'Ian Sanchez DVM', 'Dr. Robert Mckinney', 'Laura Franco MD', 'Kelly Williams DDS', 'Mason Adams MD', 'Mr. Jason Davis', 'Dr. Daniel Flores', 'Mr. Gary Anderson DDS', 'Tyler Randall Jr.', 'Joshua Santiago DDS', 'Laurie Moore DDS', 'Dr. Susan Walsh', 'Kristin Smith MD', 'Mrs. Denise Vasquez', 'Miss Bridget Ryan', 'Joseph Morgan IV', 'Carlos Adkins Jr.', 'Michael Craig DDS', 'Dr. Brent Schwartz', 'Mrs. Melissa Vasquez', 'Ms. Sandra Ware', 'Dr. Becky Powell', 'Dr. Matthew Cooper DDS', 'Mark Livingston Jr.', 'Mr. Michael Martin DVM', 'Kari Anderson DVM', 'Mrs. Kaitlin Oconnor DVM', 'Crystal Miller DVM', 'Mrs. Margaret Watson', 'Mr. John Martin', 'Richard Price MD', 'Jennifer Powell DVM', 'Sheri Davis DDS', 'Traci Blanchard MD', 'Mrs. Nancy Blair', 'Aaron Carpenter MD', 'Dr. Monica Wilson', 'Dr. Kristin Holland', 'Kimberly Knight DDS', 'Mrs. Brittany Ford DDS', 'Benjamin Singh DVM', 'Dr. Amber Owens', 'Michael Williams III', 'Mrs. Wendy Gomez DVM', 'Kara Stuart MD', 'Kayla Torres DVM', 'Bobby Hart DDS', 'Mark Russell MD', 'John Duncan MD', 'Rachel Gonzalez DVM', 'Mrs. Katherine Jones', 'Dr. Brian Harrington DVM', 'Mrs. Theresa Winters', 'Mr. Chad Hale', 'Miguel Cook MD', 'Eric Evans III', 'John Murray DDS', 'Dr. Andrew Young', 'Mrs. Jordan White MD', 'Dr. Erica Stevenson', 'Mr. Stephen Hardy', 'Paul Stanley DDS', 'Christina Gonzalez DVM', 'Dr. Anthony Jimenez', 'Christopher Thornton Jr.', 'Mrs. Julie Powers', 'Dr. Christopher Sullivan', 'Dr. Joyce Pace', 'Dr. Alyssa Patrick', 'Adam Hayes III', 'Brittany Holmes MD', 'Mrs. Angela Floyd', 'Ms. Angela Hernandez', 'Michael Cummings MD', 'Brittany Sanchez PhD', 'Nicole Mclean DVM', 'Dr. Melissa Fernandez', 'Scott Bishop DDS', 'Mrs. Alexandra Hamilton', 'Dr. Jacob Taylor MD', 'Michael Moore Jr.', 'Ms. Alicia Zhang DDS', 'Mrs. Sharon Rose', 'Amber Ray MD', 'Mr. Jeremy Chang', 'Joseph Hudson II', 'Jessica Hughes MD', 'William Brooks Jr.', 'Mr. Jacob Frost', 'Mrs. Melissa Ingram DDS', 'Dr. Robert Murphy', 'Mrs. Melanie Martinez PhD', 'Mr. Stephen Berry', 'Dr. Judith Reese', 'Sarah Young DDS', 'Angela Thompson DDS', 'Mr. Darren Taylor', 'Daniel Welch II', 'Roger Horton Jr.', 'Dr. Virginia Evans', 'Dr. John Dyer', 'Jeffery Brown DDS', 'Paul Cox MD', 'Mrs. Angela Williams', 'Cory Marshall II', 'Mrs. Megan Clark MD', 'Dr. Jennifer Hogan MD', 'Natalie Davis MD', 'Dr. Sarah Johnson', 'Dr. Corey Mathis', 'Mr. Joshua Thompson Jr.', 'Nancy Stewart DDS', 'Mr. Brian Glover', 'Roberta Garcia MD', 'Erin Conrad DVM', 'Dr. Karla Love', 'Dr. Tina White PhD', 'Leslie Wright MD', 'Ms. Brittney Nunez', 'Mrs. Susan Mccormick', 'Amanda Wolf DVM', 'Mr. Mitchell Coleman', 'Miss Christy Harris', 'Dylan Foley DDS', 'Mr. Lance Stark', 'Ricky Murphy DDS', 'Mr. Elijah Anderson', 'Kristen Dennis DVM', 'Mr. Casey Vang', 'William Young DDS', 'Ms. Kristina Cook', 'Mrs. Kimberly Floyd DDS', 'Mr. Timothy Brooks', 'Mrs. Samantha Jackson', 'Miss Lori Doyle', 'Ms. Karen Villegas MD', 'Brenda Maldonado MD', 'Katherine Pierce MD', 'Dr. Aaron Morrison MD', 'Marcia Swanson DDS', 'Yolanda Harris DVM', 'Roger Forbes PhD', 'Dr. Tiffany Harmon', 'Mrs. Kimberly Brandt', 'Mr. Casey Pham', 'Mrs. Dana Hammond DDS', 'John Ruiz DDS', 'David Li MD', 'Lisa Velasquez MD', 'Brian Bryan MD', 'Mr. Brian Wilson', 'Mr. Joseph Medina', 'Monica Dean DDS', 'Travis Mcintyre DVM', 'Mrs. Kelsey Marshall', 'Mr. Duane Roberts MD', 'Jon Flores II', 'Mrs. Lisa Lyons MD', 'Dr. Philip Jones Jr.', 'Greg Joyce Jr.', 'Ms. Barbara Tran', 'Mrs. Mary Duarte MD', 'Christina Hull MD', 'Mr. Anthony Wilson', 'Mrs. Lisa Baker', 'Miss Mary Sloan', 'Mr. Joshua King', 'Daniel Mckinney MD', 'Nicole Martinez MD', 'Dr. David Robinson DVM', 'Joe Butler MD', 'Thomas Frye Jr.', 'Patrick Mcdaniel PhD', 'Dr. Brooke Williams', 'Robert Edwards PhD', 'Cynthia Mclaughlin PhD', 'Mark Hardy DDS', 'Dr. Kathryn Riley', 'Mrs. Heather Price', 'Miss Ashley Howell', 'Mr. James Adams', 'Mr. Michael Eaton', 'Mr. Joseph Marquez Jr.', 'Danielle Mercer DVM', 'Jacqueline York DDS', 'Mrs. Barbara Sanchez', 'Dr. Valerie Kline', 'Mr. Tony Cobb', 'Mr. Justin Jarvis', 'Nichole Novak MD', 'Mr. Matthew Cameron', 'Michael Robinson DVM', 'Adam Munoz PhD', 'Mr. Stephen Vaughan', 'Mr. Daniel Hale', 'Valerie Mccormick MD', 'Robert Smith Jr.', 'David Beck Jr.', 'Dana Bennett DVM', 'Dr. Tina Woodard', 'James Smith MD', 'Mr. Jerry Norton', 'Billy Hall DDS', 'Dr. Lauren Robertson MD', 'Mrs. Joyce Cunningham', 'Mr. Matthew Reilly', 'Erik Lowe MD', 'Mrs. Tara Lee', 'Dr. Theresa Gaines MD', 'Danielle Brown MD', 'Miss Misty Wood', 'Jonathan Maldonado MD', 'Mrs. Ashley Martin', 'Ms. Emily Ford', 'Mr. Isaiah Martinez DDS', 'Christopher Moore PhD', 'Mr. Andrew Robinson', 'Mr. Ryan Gates', 'John Fitzgerald MD', 'Gail Page PhD', 'Cheryl Richards MD', 'Todd Sandoval DVM', 'Mr. Brendan Watson', 'Mr. Brandon Bryan', 'Mrs. Karen Wright MD', 'Rhonda Stevenson MD', 'Danielle Cook MD', 'Ms. Taylor Velazquez', 'Michelle Porter DDS', 'Ryan Gomez II', 'Mrs. Rachel Hensley', 'Mrs. Cynthia Lawrence', 'Melissa Gonzalez DVM', 'Dr. Laura Tyler', 'Erik Smith Jr.', 'Angie Clarke DVM', 'Jennifer Olson MD', 'Omar Thompson Jr.', 'William Smith DDS', 'Jessica Smith DVM', 'Mr. Justin Mccoy', 'Robert Nguyen DDS', 'Leonard Roberts Jr.', 'Dr. Paul Johnson', 'Cody Martinez DVM', 'Duane Li Jr.', 'Ms. Allison Cunningham', 'Dr. Robert Hurley', 'Mrs. Ashley Floyd', 'Hunter James DDS', 'Dr. Brianna Greene MD', 'Matthew Higgins PhD', 'Mr. Jeremy Valentine', 'Wesley Martinez DDS', 'Mr. Justin Jones', 'Brent Ball DDS', 'Miss Jessica Holloway DVM', 'Mark Sanders MD', 'Dr. Tracy Levy', 'Larry Anderson MD', 'Dr. Steven Smith', 'Christian Hurst PhD', 'Amanda Gomez DDS', 'Mr. Anthony Nunez', 'Mrs. Rachel Newman DDS', 'Mr. Tyler Foster', 'Mr. Barry Copeland', 'Mr. Richard Edwards', 'Carly Montoya DDS', 'Mrs. Amy Bradford DDS', 'Mr. Tyler Allen', 'Mrs. Melissa Ramirez', 'Claudia Cook MD', 'Thomas Herrera DVM', 'Mr. Bobby Tucker', 'Dr. Stephanie Gonzalez', 'Dr. Bridget Hart DVM', 'Emily Graham DVM', 'Mr. Daniel Carpenter', 'Mr. Christian Bennett', 'Mr. Mark Peters DDS', 'Dr. Bradley Jackson', 'Miss Hannah Moore MD', 'Kaitlyn Adams MD', 'Darren Moore MD', 'Richard Lucero Jr.', 'Elizabeth Holder PhD', 'Mrs. Shannon Gonzalez MD', 'Seth Medina Jr.', 'Betty Raymond DVM', 'Dr. Crystal Watson', 'Scott Diaz DDS', 'Mrs. Lindsey White', 'Ryan Lamb DVM', 'Amber Graham MD', 'Mrs. Jennifer Chavez DVM', 'Becky Aguilar MD', 'Mrs. Lisa Vargas DDS', 'Robert Frazier DDS', 'Mrs. Jennifer Kelly', 'Mr. Richard Curry PhD', 'Mrs. Anna Perez', 'Keith Gomez DDS', 'Anthony Carlson Jr.', 'Dr. Bradley Rodgers', 'Mr. William Bishop', 'Mrs. Rhonda Bradley', 'Kimberly Martin DDS', 'Ryan Martinez MD', 'Latasha Thomas MD', 'Mrs. Tamara Burns', 'Andrea Dawson MD', 'Mr. Daniel Johnson', 'Lauren Smith MD', 'Dr. Nicole Brady', 'Wyatt Hoffman DDS', 'Dr. Kathy Bailey', 'Mr. Jorge Smith', 'Dr. Katherine Pham', 'Deanna Key DVM', 'Donna Mcclure MD', 'Dr. Jeremy Davis', 'Mrs. Brittany Boone MD', 'Debra Torres PhD', 'Hannah Garcia MD', 'Ms. Jacqueline Stone', 'Dr. Wesley Lynch MD', 'Edward Dudley II', 'Nathan Gonzalez MD', 'Dr. Sean Neal', 'Matthew Lewis Jr.', 'Jacob Perez PhD', 'Alexander Brown MD', 'Mr. Duane Sherman', 'Mr. John Petty', 'Ms. Brooke Stewart', 'Isaac Smith PhD', 'Dr. Kristi Soto MD', 'Dr. Timothy Haynes', 'Dr. Raven Ortiz MD', 'Kendra Buckley DDS', 'Mr. Russell Daniel', 'Christopher Bowers Jr.', 'Wendy Arroyo PhD', 'Taylor Hill DDS', 'Mrs. Lisa Guerrero', 'Mr. Jose Moran', 'Allison Perkins MD', 'Lisa Monroe DDS', 'Kenneth Cervantes DDS', 'Sandra Freeman MD', 'Mr. Patrick Rodriguez MD', 'Brendan Kim MD', 'Timothy Hughes Jr.', 'Dr. Carlos Mcdonald', 'Chad Bryant DDS', 'Gina Nguyen DDS', 'Dr. James Myers', 'Meagan Browning MD', 'Mr. Frank Delgado', 'Michael Torres MD', 'Michelle Richards MD', 'Kimberly Osborn MD', 'Kevin Hoover IV', 'Mr. Jeffrey Thompson', 'Mrs. Laurie Hamilton', 'David Butler Jr.', 'Amy Jones MD', 'Nicholas Frost DDS', 'Mr. James Thompson MD', 'Mrs. Adrienne Evans DDS', 'Mr. Christopher Bell', 'Louis Smith MD', 'Dr. Cameron Anderson', 'Crystal Wiggins MD', 'Michael Wilson Jr.', 'Matthew Savage MD', 'Jeffrey Jones DVM', 'Mr. John Burns', 'Dr. Luke Torres DVM', 'Christopher Stewart DVM', 'Benjamin Carlson MD', 'Emily Fitzgerald MD', 'Mrs. Carolyn Cole', 'Bruce Cummings DVM', 'Lisa Vance DVM', 'Mrs. Lisa Doyle', 'Dr. Brenda Sandoval', 'Miss Taylor Garza', 'Elizabeth Robinson PhD', 'Mr. George Hess Jr.', 'Courtney Cox PhD', 'Mr. Brian Schmidt DVM', 'Kevin Briggs Jr.', 'Ms. Grace Austin', 'Louis Cooper MD', 'Mrs. Tabitha Coleman', 'Thomas Knox MD', 'Sierra Little DDS', 'Mr. Joseph Matthews III', 'Mrs. Brenda Henderson DVM', 'Michael Martin DDS', 'Mr. Andrew Dennis', 'Dr. Edward Davenport', 'Dr. Dylan Bailey Jr.', 'Mr. John Jackson', 'Lisa Hernandez MD', 'Dr. Michael Gibbs', 'Angel Brown MD', 'Mr. Timothy Carter', 'Anthony Woods Jr.', 'Ms. Amy Watson', 'Marcus Jones MD', 'Kelsey Bennett MD', 'Ashley Wells DVM', 'Michael Harris Jr.', 'Daniel Diaz Jr.', 'Mrs. April Thornton', 'Steven Reid DDS', 'Mr. Jay Maxwell', 'Dr. Patrick Rasmussen', 'Dr. Jordan Smith', 'Cristian Williams PhD', 'Mrs. Amanda Harris DDS', 'Sean Reed DDS', 'Dr. Robin Higgins', 'Dr. Megan Glass', 'Mr. William Scott', 'Mr. Chad Gentry DDS', 'Taylor Thompson Jr.', 'Miss Wendy Martin', 'Daniel Robinson Jr.', 'Miss Jessica Hood', 'Michael Taylor MD', 'Micheal Stout DVM', 'Michael Aguirre DDS', 'Dr. Karl Campbell', 'Mr. Aaron Randolph', 'Dr. Jenna Arellano MD', 'Holly Adams MD', 'Melissa Barnett PhD', 'Brenda Brown DDS', 'Alicia Palmer MD', 'Dr. Carl Haynes', 'Anthony Bryant DDS', 'Christopher Perez DVM', 'Mrs. Amber Garner DVM', 'Thomas Diaz MD', 'Mr. Logan Thomas', 'Sherry Turner DDS', 'Joshua Martinez MD', 'Mrs. Alicia Sanford', 'Mrs. Laura Sexton', 'Melissa Coleman MD', 'Dr. Dana Burnett MD', 'Ronald Phelps Jr.', 'Mrs. Jessica Flynn', 'Dr. Robin Jones', 'Mr. Michael Jones', 'Jeffrey Parker MD', 'Mrs. Elizabeth Jones', 'Erika Stafford DVM', 'Mr. Vincent Reed', 'Mr. Justin Mcgee', 'Todd Turner DDS', 'Karen Kidd MD', 'Michael Miller PhD', 'Dr. Deborah Farrell', 'Mrs. Sharon Kelley', 'Andrew Cole MD', 'Jonathan Reid II', 'Mrs. Taylor Castillo', 'Joshua Smith Jr.', 'Joseph Herrera III', 'Miss Megan Smith', 'Catherine Ferguson MD', 'Dr. Mitchell Hays', 'Mrs. Jordan Turner', 'Mr. Robert Reyes', 'Mr. Johnny Walsh', 'Andrew Walsh PhD', 'Mrs. Lauren Collins', 'Adam Thompson MD', 'Mrs. Chelsea Roberts MD', 'Ms. Debra Brown', 'Vicki Santos PhD', 'Tony Robertson II', 'Kathleen Golden DDS', 'Dr. Elizabeth Tran', 'Miss Rachel West', 'Jessica Hoover DVM', 'Toni Graham DDS', 'Joseph Patel MD', 'Nathaniel Molina DDS', 'Ms. Cheryl Fisher', 'Nicolas Crawford MD', 'Wendy Owens DVM', 'Patricia Boone MD', 'Mr. Robert Estrada', 'Mr. Kevin Yates', 'James Fowler III', 'Dr. Andrea Welch DDS', 'Ms. Sara Parker', 'Dr. Destiny Mcdonald', 'Mrs. Brittany Perry MD', 'Timothy Mccoy DVM', 'Melissa Cohen MD', 'William Wright II', 'Dr. Jose White', 'Dr. Mason Graves', 'Dr. Diane Rodriguez', 'Marilyn Rubio DDS', 'Jose Lewis MD', 'Latasha Hughes MD', 'Monica Wallace DDS', 'Dr. Robin Reed', 'Dr. Ashley Butler', 'Misty Garcia MD', 'Amy Turner MD', 'Robert Miller DVM', 'Andrea Horton MD', 'Thomas Estes MD', 'Justin Warner MD', 'Thomas Carrillo II', 'James Hess DDS', 'Matthew Bennett Jr.', 'John Scott MD', 'Mrs. Carla Lawson', 'Anthony Campbell DDS', 'Mario Griffith MD', 'Mr. Jacob Jackson', 'Mrs. Allison Robinson', 'Mrs. Amber Hall', 'Miss Gabriela Burch', 'Kathryn Wade MD', 'Mr. Anthony Martinez', 'Dr. Justin Duffy', 'Steven Hoover MD', 'Mary Smith MD', 'Tiffany Young DDS', 'Mark Lucas IV', 'Kenneth Marquez MD', 'Keith Newman Jr.', 'Matthew Mitchell III', 'Dr. Jo Williams', 'Lauren Howell DDS', 'Erica Martin DDS', 'Ms. Hannah Mcdonald MD', 'Brandon Palmer DDS', 'Ms. Stephanie Nichols DVM', 'Dr. Mckenzie Cummings', 'Valerie Joseph DVM', 'Harold Parker PhD', 'Mr. David Reeves', 'Dr. Christina Barrera', 'Kristen Solis MD', 'Colin Schultz II', 'Miss Michelle Li', 'Mr. Andrew Summers', 'Dr. Kimberly Ramos', 'Thomas Meyer DVM', 'Troy Foster MD', 'John Hernandez DVM', 'Valerie Krueger DDS', 'Carol Valdez DDS', 'Dr. Jay Johnson DDS', 'Brenda Holloway DVM', 'Wendy Parker MD', 'Kim Smith DVM', 'Mr. Wesley Fields MD', 'Nicole White MD', 'Amanda Skinner MD', 'Adrienne Turner MD', 'Terry Scott Jr.', 'Cesar Rodriguez DVM', 'Jennifer Gay MD', 'Mr. Earl Thompson', 'Miss Melinda Thomas', 'Mary Nixon MD', 'Leslie Kelly MD', 'Mrs. Kristen Gonzalez', 'Michael Carter MD', 'Joseph Perez DDS', 'Mrs. Alice Warren', 'Julia Kelley MD', 'David Coffey PhD', 'Mrs. Pam Wolf DDS', 'Mr. Ryan Thomas', 'Gregory Morgan MD', 'Dr. Carol Williams', 'Ms. Rebecca Gonzales', 'Mrs. Samantha Glover', 'Anna Decker MD', 'Hailey Lopez DDS', 'Mr. James Baker', 'Mrs. Amber Gonzalez', 'Mr. Jason Patel Jr.', 'Stephanie Walker DDS', 'Mr. Timothy Scott', 'Dr. Michael Sullivan DDS', 'Mrs. Brittney Schultz DVM', 'Dr. Frances Romero', 'Laura Bennett DDS', 'Allen Goodwin DDS', 'Kimberly Brown MD', 'Steven Lewis Jr.', 'Angela Garcia DDS', 'William Foster PhD', 'Lucas Williams Jr.', 'Dr. Kimberly Page', 'Deborah Higgins DDS']\n"
     ]
    },
    {
     "name": "stderr",
     "output_type": "stream",
     "text": [
      "/var/folders/gk/bmf4btns45n_yh420g4rxqc1y9fjrj/T/ipykernel_71280/1110579673.py:20: FutureWarning: The default value of regex will change from True to False in a future version.\n",
      "  student_data_df[\"student_name\"] = student_data_df[\"student_name\"].str.replace(words,\"\")\n"
     ]
    },
    {
     "data": {
      "text/plain": [
       "0       Paul Bradley\n",
       "1       Victor Smith\n",
       "2    Kevin Rodriguez\n",
       "3      Richard Scott\n",
       "4         Bonnie Ray\n",
       "Name: student_name, dtype: object"
      ]
     },
     "execution_count": 3,
     "metadata": {},
     "output_type": "execute_result"
    }
   ],
   "source": [
    "\n",
    "\n",
    "student_data_new = student_data_df[\"student_name\"].tolist()\n",
    "students_to_fix = []\n",
    "\n",
    "count = 0\n",
    "for name in student_data_new:\n",
    "    if len(name.split()) > 2:\n",
    "        count+=1\n",
    "        students_to_fix.append(name)\n",
    "\n",
    "\n",
    "print(f\" Total Student to be fixed {count}\")\n",
    "\n",
    "print(students_to_fix)\n",
    "\n",
    "\n",
    "\n",
    "prefixes_suffixes = [\"Dr. \", \"Mr. \",\"Ms. \", \"Mrs. \", \"Miss \", \" MD\", \" DDS\", \" DVM\", \" PhD\"]\n",
    "\n",
    "for words in prefixes_suffixes:\n",
    "    student_data_df[\"student_name\"] = student_data_df[\"student_name\"].str.replace(words,\"\")\n",
    "\n",
    "student_data_df[\"student_name\"].head()     \n",
    "  "
   ]
  },
  {
   "cell_type": "code",
   "execution_count": 6,
   "id": "fdeb2afc",
   "metadata": {},
   "outputs": [
    {
     "data": {
      "text/plain": [
       "151"
      ]
     },
     "execution_count": 6,
     "metadata": {},
     "output_type": "execute_result"
    }
   ],
   "source": [
    "student_names = student_data_df[\"student_name\"].tolist()\n",
    "student_names\n",
    "\n",
    "\n",
    "students_fixed = []\n",
    "\n",
    "# Use an if statement to check the length of the name.\n",
    "\n",
    "# If the name is greater than or equal to 3, add the name to the list.\n",
    "\n",
    "for name in student_names:\n",
    "    if len(name.split()) >= 3:\n",
    "        students_fixed.append(name)\n",
    "\n",
    "# Get the length of the students' names that are greater than or equal to 3.\n",
    "len(students_fixed)\n",
    "\n",
    "\n",
    "# print(students_fixed)"
   ]
  },
  {
   "cell_type": "code",
   "execution_count": null,
   "id": "847a6812",
   "metadata": {},
   "outputs": [],
   "source": []
  },
  {
   "cell_type": "code",
   "execution_count": null,
   "id": "12e16213",
   "metadata": {},
   "outputs": [],
   "source": []
  }
 ],
 "metadata": {
  "kernelspec": {
   "display_name": "Python 3 (ipykernel)",
   "language": "python",
   "name": "python3"
  },
  "language_info": {
   "codemirror_mode": {
    "name": "ipython",
    "version": 3
   },
   "file_extension": ".py",
   "mimetype": "text/x-python",
   "name": "python",
   "nbconvert_exporter": "python",
   "pygments_lexer": "ipython3",
   "version": "3.9.12"
  }
 },
 "nbformat": 4,
 "nbformat_minor": 5
}
